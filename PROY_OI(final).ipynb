{
  "nbformat": 4,
  "nbformat_minor": 0,
  "metadata": {
    "colab": {
      "provenance": [],
      "machine_shape": "hm"
    },
    "kernelspec": {
      "name": "python3",
      "display_name": "Python 3"
    },
    "language_info": {
      "name": "python"
    }
  },
  "cells": [
    {
      "cell_type": "code",
      "source": [
        "import pandas as pd\n",
        "import numpy as np\n",
        "import random\n",
        "from scipy.spatial.distance import pdist, squareform\n",
        "import itertools\n",
        "from geopy.distance import geodesic\n",
        "import os"
      ],
      "metadata": {
        "id": "gvOtadN069Qp"
      },
      "execution_count": 151,
      "outputs": []
    },
    {
      "cell_type": "code",
      "source": [
        "# Leer datos\n",
        "data = pd.read_excel('Candidatos_supermercados.xlsx')"
      ],
      "metadata": {
        "id": "WSCGSX5A7Ffg"
      },
      "execution_count": 152,
      "outputs": []
    },
    {
      "cell_type": "code",
      "source": [
        "# Obtener coordenadas y poblaciones\n",
        "coords = data[['Latitud', 'Longitud']].values\n",
        "populations = data['Poblacion500m'].values"
      ],
      "metadata": {
        "id": "fP6O_Qp97PJ4"
      },
      "execution_count": 153,
      "outputs": []
    },
    {
      "cell_type": "code",
      "source": [
        "# Calculo de las distancias en km\n",
        "def calculate_geodesic_distances(coords):\n",
        "    n = len(coords)\n",
        "    geo_distances = np.zeros((n, n))\n",
        "\n",
        "    for i in range(n):\n",
        "        for j in range(i + 1, n):\n",
        "            # Calcular la distancia entre dos puntos y asignarla tanto en [i, j] como en [j, i]\n",
        "            distance_km = geodesic(coords[i], coords[j]).kilometers\n",
        "            geo_distances[i, j] = distance_km\n",
        "            geo_distances[j, i] = distance_km\n",
        "\n",
        "    return geo_distances"
      ],
      "metadata": {
        "id": "082jlPBYiGwO"
      },
      "execution_count": 154,
      "outputs": []
    },
    {
      "cell_type": "code",
      "source": [
        "len(coords)"
      ],
      "metadata": {
        "colab": {
          "base_uri": "https://localhost:8080/"
        },
        "id": "o0tBzDHs8VPE",
        "outputId": "1e0d3a9d-36e0-40fe-a0c3-525e331a2f76"
      },
      "execution_count": 155,
      "outputs": [
        {
          "output_type": "execute_result",
          "data": {
            "text/plain": [
              "60"
            ]
          },
          "metadata": {},
          "execution_count": 155
        }
      ]
    },
    {
      "cell_type": "code",
      "source": [
        "# Calcular la matriz de distancias geodésicas en kilómetros\n",
        "distances_km = calculate_geodesic_distances(coords)"
      ],
      "metadata": {
        "id": "WlfFtRYDjuC-"
      },
      "execution_count": 156,
      "outputs": []
    },
    {
      "cell_type": "code",
      "source": [
        "# Arreglo de distancias entre puntos\n",
        "distances_km"
      ],
      "metadata": {
        "colab": {
          "base_uri": "https://localhost:8080/"
        },
        "id": "PYIt_M_MkIhW",
        "outputId": "7c382109-8bc2-42b2-dc8b-edbae44bd410"
      },
      "execution_count": 157,
      "outputs": [
        {
          "output_type": "execute_result",
          "data": {
            "text/plain": [
              "array([[0.        , 1.6935315 , 2.05349239, ..., 8.93488781, 8.88319365,\n",
              "        8.45854008],\n",
              "       [1.6935315 , 0.        , 0.68432877, ..., 8.51761045, 8.42557777,\n",
              "        8.07197853],\n",
              "       [2.05349239, 0.68432877, 0.        , ..., 7.85388592, 7.75785298,\n",
              "        7.41282819],\n",
              "       ...,\n",
              "       [8.93488781, 8.51761045, 7.85388592, ..., 0.        , 0.22603489,\n",
              "        0.48954373],\n",
              "       [8.88319365, 8.42557777, 7.75785298, ..., 0.22603489, 0.        ,\n",
              "        0.53575624],\n",
              "       [8.45854008, 8.07197853, 7.41282819, ..., 0.48954373, 0.53575624,\n",
              "        0.        ]])"
            ]
          },
          "metadata": {},
          "execution_count": 157
        }
      ]
    },
    {
      "cell_type": "code",
      "source": [
        "distances_km.shape"
      ],
      "metadata": {
        "colab": {
          "base_uri": "https://localhost:8080/"
        },
        "id": "N_4tbfSdkVTG",
        "outputId": "9c08a4d2-07bf-4ba5-ad46-dccddaeaee73"
      },
      "execution_count": 158,
      "outputs": [
        {
          "output_type": "execute_result",
          "data": {
            "text/plain": [
              "(60, 60)"
            ]
          },
          "metadata": {},
          "execution_count": 158
        }
      ]
    },
    {
      "cell_type": "code",
      "source": [
        "# Función de fitness con penalización\n",
        "def fitness(individual, distances_km, populations):\n",
        "  if all(distances_km[i, j] >= 1 for i in individual for j in individual if i < j):\n",
        "    total_distance = np.sum([distances_km[i, j] for i in individual for j in individual if i < j])\n",
        "    total_population = np.sum([populations[i] for i in individual])\n",
        "  else :\n",
        "    total_distance = 0\n",
        "    total_population = 0\n",
        "  return total_distance + total_population"
      ],
      "metadata": {
        "id": "SLfA1La9s2vH"
      },
      "execution_count": 159,
      "outputs": []
    },
    {
      "cell_type": "code",
      "source": [
        "# Función de fitness desagregado\n",
        "def fitness_desagregado(individual, distances_km, populations):\n",
        "  if all(distances_km[i, j] >= 1 for i in individual for j in individual if i < j):\n",
        "    total_distance = np.sum([distances_km[i, j] for i in individual for j in individual if i < j])\n",
        "    total_population = np.sum([populations[i] for i in individual])\n",
        "  else :\n",
        "    total_distance = 0\n",
        "    total_population = 0\n",
        "  return total_distance, total_population"
      ],
      "metadata": {
        "id": "AzwtweNPZT_g"
      },
      "execution_count": 160,
      "outputs": []
    },
    {
      "cell_type": "code",
      "source": [
        "# Función para generar un individuo\n",
        "def generate_individual():\n",
        "    while True:\n",
        "        individual = random.sample(range(len(coords)), 10)\n",
        "        if all(distances_km[i, j] >= 1 for i in individual for j in individual if i < j):\n",
        "            return individual"
      ],
      "metadata": {
        "id": "72XE-8Ic9214"
      },
      "execution_count": 161,
      "outputs": []
    },
    {
      "cell_type": "code",
      "source": [
        "# Inicializar población utilizando combinaciones válidas\n",
        "population = [list(generate_individual()) for _ in range(100)]"
      ],
      "metadata": {
        "id": "0ltIGkBXl8mR"
      },
      "execution_count": 162,
      "outputs": []
    },
    {
      "cell_type": "code",
      "source": [
        "population"
      ],
      "metadata": {
        "colab": {
          "base_uri": "https://localhost:8080/"
        },
        "id": "wlbw6tiamjY3",
        "outputId": "4ef08d73-e1a7-4a14-fd77-1ea88835d562"
      },
      "execution_count": 163,
      "outputs": [
        {
          "output_type": "execute_result",
          "data": {
            "text/plain": [
              "[[21, 7, 29, 28, 49, 3, 0, 23, 25, 59],\n",
              " [28, 37, 7, 24, 29, 25, 0, 48, 43, 14],\n",
              " [28, 13, 26, 22, 42, 59, 51, 14, 17, 18],\n",
              " [31, 13, 28, 58, 26, 38, 0, 2, 14, 20],\n",
              " [30, 10, 1, 20, 37, 22, 59, 47, 53, 14],\n",
              " [59, 11, 25, 43, 29, 19, 39, 24, 27, 2],\n",
              " [27, 22, 10, 26, 39, 3, 32, 0, 2, 45],\n",
              " [2, 55, 3, 44, 27, 21, 48, 9, 25, 22],\n",
              " [15, 3, 12, 29, 47, 26, 27, 35, 54, 24],\n",
              " [28, 54, 19, 24, 45, 11, 10, 29, 38, 23],\n",
              " [55, 28, 47, 17, 32, 12, 23, 24, 21, 14],\n",
              " [25, 29, 50, 12, 17, 24, 23, 54, 33, 27],\n",
              " [25, 39, 29, 14, 24, 15, 19, 10, 56, 3],\n",
              " [31, 54, 57, 21, 5, 14, 25, 42, 2, 46],\n",
              " [29, 21, 34, 2, 15, 27, 12, 23, 53, 48],\n",
              " [21, 55, 14, 8, 48, 29, 2, 15, 3, 38],\n",
              " [47, 42, 26, 31, 3, 22, 1, 21, 54, 50],\n",
              " [3, 8, 27, 59, 18, 44, 23, 15, 51, 25],\n",
              " [30, 23, 51, 24, 21, 6, 18, 15, 41, 59],\n",
              " [42, 2, 28, 7, 58, 26, 29, 19, 37, 0],\n",
              " [15, 47, 26, 59, 23, 40, 20, 43, 14, 2],\n",
              " [59, 31, 41, 18, 54, 3, 12, 21, 45, 27],\n",
              " [0, 26, 59, 6, 2, 29, 14, 23, 48, 54],\n",
              " [1, 59, 0, 36, 26, 28, 21, 29, 54, 49],\n",
              " [51, 22, 19, 1, 43, 24, 25, 37, 59, 17],\n",
              " [54, 10, 27, 11, 46, 14, 26, 36, 22, 15],\n",
              " [20, 10, 23, 26, 28, 59, 11, 42, 15, 37],\n",
              " [54, 0, 49, 21, 22, 5, 28, 44, 26, 14],\n",
              " [26, 27, 20, 12, 23, 50, 54, 24, 15, 2],\n",
              " [51, 3, 44, 18, 28, 23, 47, 4, 14, 24],\n",
              " [29, 13, 32, 38, 17, 14, 22, 54, 19, 46],\n",
              " [14, 26, 0, 2, 37, 30, 47, 23, 24, 9],\n",
              " [15, 24, 19, 2, 27, 29, 22, 16, 56, 35],\n",
              " [12, 14, 21, 47, 2, 17, 16, 53, 26, 41],\n",
              " [15, 41, 28, 47, 26, 9, 29, 22, 14, 53],\n",
              " [39, 2, 3, 21, 27, 31, 8, 26, 56, 22],\n",
              " [54, 26, 32, 41, 13, 22, 48, 2, 17, 29],\n",
              " [38, 15, 24, 1, 59, 23, 43, 48, 54, 16],\n",
              " [45, 25, 8, 38, 55, 18, 29, 23, 43, 24],\n",
              " [59, 29, 24, 54, 46, 1, 28, 33, 10, 3],\n",
              " [43, 0, 24, 14, 7, 19, 29, 22, 56, 3],\n",
              " [11, 31, 15, 25, 47, 22, 18, 27, 21, 24],\n",
              " [27, 58, 0, 46, 9, 20, 25, 42, 31, 22],\n",
              " [3, 44, 4, 2, 47, 27, 24, 50, 59, 54],\n",
              " [23, 15, 19, 14, 57, 3, 16, 37, 2, 42],\n",
              " [24, 28, 26, 53, 4, 18, 29, 59, 34, 15],\n",
              " [10, 24, 26, 47, 31, 57, 28, 17, 1, 14],\n",
              " [43, 18, 1, 50, 25, 10, 17, 24, 27, 39],\n",
              " [21, 0, 51, 25, 27, 5, 40, 14, 3, 47],\n",
              " [28, 34, 45, 54, 0, 59, 20, 26, 12, 14],\n",
              " [53, 13, 20, 15, 25, 17, 14, 27, 47, 2],\n",
              " [26, 13, 15, 14, 40, 46, 59, 18, 21, 22],\n",
              " [54, 20, 59, 22, 14, 7, 37, 48, 27, 2],\n",
              " [2, 47, 14, 28, 31, 3, 19, 10, 23, 53],\n",
              " [21, 50, 13, 46, 32, 25, 22, 2, 29, 28],\n",
              " [59, 23, 7, 27, 32, 14, 24, 53, 2, 0],\n",
              " [19, 16, 32, 46, 24, 12, 29, 58, 27, 42],\n",
              " [14, 47, 53, 2, 31, 24, 15, 42, 17, 19],\n",
              " [46, 30, 53, 42, 21, 23, 26, 37, 15, 17],\n",
              " [47, 40, 18, 23, 1, 25, 3, 27, 14, 24],\n",
              " [54, 14, 15, 49, 37, 29, 21, 10, 28, 22],\n",
              " [12, 25, 14, 51, 22, 46, 38, 15, 2, 3],\n",
              " [3, 6, 18, 21, 43, 27, 25, 50, 39, 15],\n",
              " [2, 57, 42, 37, 21, 13, 27, 30, 26, 17],\n",
              " [29, 15, 4, 24, 53, 21, 47, 3, 35, 26],\n",
              " [3, 31, 24, 12, 18, 57, 47, 54, 0, 25],\n",
              " [53, 21, 1, 22, 18, 59, 48, 37, 16, 30],\n",
              " [42, 45, 23, 19, 37, 2, 30, 26, 24, 0],\n",
              " [25, 14, 41, 18, 43, 59, 29, 21, 1, 28],\n",
              " [40, 54, 59, 30, 25, 27, 16, 46, 23, 20],\n",
              " [58, 23, 46, 3, 24, 19, 1, 16, 29, 36],\n",
              " [18, 54, 27, 29, 21, 57, 24, 9, 36, 14],\n",
              " [23, 0, 33, 25, 29, 47, 24, 18, 53, 12],\n",
              " [15, 32, 46, 27, 19, 2, 10, 50, 29, 54],\n",
              " [57, 26, 18, 46, 28, 54, 36, 23, 3, 13],\n",
              " [54, 15, 49, 19, 59, 2, 16, 23, 3, 25],\n",
              " [27, 24, 26, 0, 53, 23, 47, 3, 33, 2],\n",
              " [12, 24, 53, 23, 15, 20, 46, 59, 40, 17],\n",
              " [2, 0, 29, 46, 24, 25, 5, 19, 32, 50],\n",
              " [43, 21, 10, 14, 23, 39, 25, 53, 0, 3],\n",
              " [29, 14, 23, 33, 26, 27, 59, 47, 15, 7],\n",
              " [18, 4, 25, 27, 47, 24, 38, 58, 29, 21],\n",
              " [46, 9, 39, 29, 3, 0, 25, 27, 43, 24],\n",
              " [30, 15, 4, 14, 28, 57, 19, 42, 26, 3],\n",
              " [6, 14, 29, 43, 23, 46, 0, 56, 18, 21],\n",
              " [27, 2, 24, 3, 5, 15, 33, 50, 54, 46],\n",
              " [0, 43, 54, 24, 26, 1, 22, 57, 18, 29],\n",
              " [54, 26, 24, 7, 14, 33, 2, 21, 3, 29],\n",
              " [24, 40, 26, 14, 13, 51, 46, 30, 17, 15],\n",
              " [35, 24, 3, 21, 0, 27, 57, 25, 54, 2],\n",
              " [22, 30, 21, 50, 27, 10, 40, 18, 14, 17],\n",
              " [3, 38, 59, 27, 50, 21, 4, 43, 26, 23],\n",
              " [31, 17, 13, 22, 38, 54, 57, 27, 2, 26],\n",
              " [22, 18, 49, 21, 15, 24, 59, 29, 4, 32],\n",
              " [21, 58, 15, 37, 26, 47, 14, 28, 3, 22],\n",
              " [0, 35, 59, 7, 27, 2, 24, 47, 26, 29],\n",
              " [43, 52, 28, 47, 22, 2, 19, 4, 15, 41],\n",
              " [30, 11, 27, 46, 37, 25, 2, 42, 15, 50],\n",
              " [28, 17, 24, 15, 37, 48, 22, 9, 2, 53],\n",
              " [21, 40, 3, 22, 47, 51, 43, 18, 10, 14]]"
            ]
          },
          "metadata": {},
          "execution_count": 163
        }
      ]
    },
    {
      "cell_type": "code",
      "source": [
        "len(population)"
      ],
      "metadata": {
        "colab": {
          "base_uri": "https://localhost:8080/"
        },
        "id": "5y1g7rA0obpH",
        "outputId": "4beb1f8e-e431-46e7-c04a-bb423ea48050"
      },
      "execution_count": 164,
      "outputs": [
        {
          "output_type": "execute_result",
          "data": {
            "text/plain": [
              "100"
            ]
          },
          "metadata": {},
          "execution_count": 164
        }
      ]
    },
    {
      "cell_type": "code",
      "source": [
        "# Operador de selección: Torneo\n",
        "def tournament_selection(population, fitness_values, k=3):\n",
        "    selected = []\n",
        "    for _ in range(len(population)):\n",
        "        tournament = random.sample(list(zip(population, fitness_values)), k)\n",
        "        winner = max(tournament, key=lambda x: x[1])\n",
        "        selected.append(winner[0])\n",
        "    return selected"
      ],
      "metadata": {
        "id": "ZISkdW_q1MPg"
      },
      "execution_count": 165,
      "outputs": []
    },
    {
      "cell_type": "code",
      "source": [
        "# Operador de cruzamiento\n",
        "def crossover(parent1, parent2):\n",
        "    cut = random.randint(1, len(parent1) - 2)\n",
        "    child1 = parent1[:cut] + [gene for gene in parent2[cut:] if gene not in parent1[:cut]]\n",
        "    child2 = parent2[:cut] + [gene for gene in parent1[cut:] if gene not in parent2[:cut]]\n",
        "    if len(child1) != 10 :\n",
        "      child1 = parent1\n",
        "    if len(child2) != 10 :\n",
        "      child2 = parent2\n",
        "    return [child1, child2]"
      ],
      "metadata": {
        "id": "9Bfc2Fe63Xu0"
      },
      "execution_count": 166,
      "outputs": []
    },
    {
      "cell_type": "code",
      "source": [
        "# Operador de mutación\n",
        "def mutate(individual, mutation_rate=0.1):\n",
        "    for i in range(len(individual)):\n",
        "        if random.random() < mutation_rate:\n",
        "            swap_with = random.randint(0, len(individual) - 1)\n",
        "            individual[i], individual[swap_with] = individual[swap_with], individual[i]\n",
        "    return individual"
      ],
      "metadata": {
        "id": "t0wtxsnF7aMf"
      },
      "execution_count": 167,
      "outputs": []
    },
    {
      "cell_type": "code",
      "execution_count": 177,
      "metadata": {
        "id": "Dy7e8JcQ9YaX",
        "colab": {
          "base_uri": "https://localhost:8080/"
        },
        "outputId": "72e4d2e6-3561-4fbd-afee-e8303f6b8c10"
      },
      "outputs": [
        {
          "output_type": "stream",
          "name": "stdout",
          "text": [
            "  Individuo                                 Fitness        Sum_Distancia  Sum_Población\n",
            "0  [14, 10, 19, 47, 54, 59, 15, 17, 23, 1]  173842.464108  242.464108     173600       \n",
            "1     [48, 3, 9, 54, 0, 25, 14, 2, 21, 59]  170932.368526  232.368526     170700       \n",
            "2   [3, 10, 50, 59, 18, 22, 21, 14, 54, 1]  175022.208551  222.208551     174800       \n",
            "3     [0, 14, 24, 48, 2, 21, 54, 3, 4, 59]  171627.537591  227.537591     171400       \n",
            "4  [10, 59, 19, 54, 50, 22, 24, 17, 14, 2]  173624.721159  224.721159     173400       \n",
            "5  [15, 2, 21, 16, 55, 12, 14, 48, 22, 17]  173556.821550  206.821550     173350       \n",
            "6   [19, 59, 3, 48, 14, 2, 13, 15, 22, 53]  174931.658704  231.658704     174700       \n",
            "7   [59, 14, 3, 18, 54, 23, 1, 49, 10, 15]  175934.128645  234.128645     175700       \n",
            "8  [17, 54, 14, 2, 46, 16, 59, 21, 12, 22]  172484.532434  234.532434     172250       \n",
            "9   [22, 13, 14, 50, 3, 19, 59, 54, 15, 2]  175476.798474  226.798474     175250       \n"
          ]
        }
      ],
      "source": [
        "# Ciclo del algoritmo genético\n",
        "population = [list(generate_individual()) for _ in range(100)]\n",
        "\n",
        "for generation in range(500):\n",
        "    # Calcular fitness\n",
        "    fitness_values = [fitness(individual, distances_km, populations) for individual in population]\n",
        "\n",
        "    # Selección\n",
        "    selected_population = tournament_selection(population, fitness_values)\n",
        "\n",
        "    # Cruzamiento y Mutación\n",
        "    new_population = []\n",
        "    for i in range(0, len(selected_population), 2):\n",
        "        parent1, parent2 = selected_population[i], selected_population[i+1]\n",
        "        children = crossover(parent1, parent2)\n",
        "        new_population.extend([mutate(child) for child in children])\n",
        "\n",
        "    # Reemplazar población antigua con la nueva\n",
        "    population = new_population\n",
        "\n",
        "# Mostrar resultados finales\n",
        "fitness_values = [fitness(individual, distances_km, populations) for individual in population]\n",
        "fitness_values_desagregado = [fitness_desagregado(individual, distances_km, populations) for individual in population]\n",
        "best_individual = population[np.argmax(fitness_values)]\n",
        "#print(\"Mejor individuo encontrado:\", best_individual)\n",
        "#print(\"Fitness del mejor individuo:\", max(fitness_values))\n",
        "#print(\"E1:\", best_individual,\" \",max(fitness_values),\" \",max(fitness_values_desagregado)[0],\" \",max(fitness_values_desagregado)[1])\n",
        "\n",
        "data = {\"Individuo\": [best_individual],\n",
        "        \"Fitness\": [max(fitness_values)],\n",
        "        \"Sum_Distancia\": [max(fitness_values_desagregado)[0]],\n",
        "        \"Sum_Población\": [max(fitness_values_desagregado)[1]],\n",
        "        }\n",
        "df = pd.DataFrame(data)\n",
        "\n",
        "pd.set_option('display.max_colwidth', None)\n",
        "pd.set_option('display.width', 0)\n",
        "pd.set_option('display.colheader_justify', 'left')\n",
        "pd.set_option('display.expand_frame_repr', False)\n",
        "\n",
        "\n",
        "filename = \"resultados.csv\"\n",
        "if os.path.exists(filename):\n",
        "  df = pd.read_csv(filename)\n",
        "else:\n",
        "  df = pd.DataFrame(columns=[\"Individuo\", \"Fitness\", \"Sum_Distancia\", \"Sum_Población\"])\n",
        "\n",
        "nuevo_resultado = pd.DataFrame(data)\n",
        "\n",
        "df = pd.concat([df, nuevo_resultado], ignore_index=True)\n",
        "\n",
        "df.to_csv(filename, index=False)\n",
        "\n",
        "\n",
        "\n",
        "print(df)\n",
        "\n"
      ]
    },
    {
      "cell_type": "code",
      "source": [
        "distances_km[48,14]"
      ],
      "metadata": {
        "id": "ClLb3Qu-VnqD",
        "outputId": "e88bb0d2-4cff-4177-80f4-2e195bebe1ae",
        "colab": {
          "base_uri": "https://localhost:8080/"
        }
      },
      "execution_count": 178,
      "outputs": [
        {
          "output_type": "execute_result",
          "data": {
            "text/plain": [
              "11.94496278705403"
            ]
          },
          "metadata": {},
          "execution_count": 178
        }
      ]
    },
    {
      "cell_type": "code",
      "source": [
        "# Ordenar por la columna \"fitness\" en orden descendente\n",
        "top_10_fitness = df.sort_values(by=\"Fitness\", ascending=False).head(10)\n",
        "print(top_10_fitness)"
      ],
      "metadata": {
        "id": "zjOnWZtCQg60",
        "outputId": "6142dfe3-7603-4cbe-9bdc-e9babeaabdae",
        "colab": {
          "base_uri": "https://localhost:8080/"
        }
      },
      "execution_count": 149,
      "outputs": [
        {
          "output_type": "stream",
          "name": "stdout",
          "text": [
            "   Individuo                                  Fitness        Sum_Distancia  Sum_Población\n",
            "5    [23, 1, 16, 14, 48, 21, 18, 15, 54, 59]  176433.585565  233.585565     176200       \n",
            "8      [5, 49, 59, 2, 19, 14, 54, 23, 0, 24]  174827.903325  227.903325     174600       \n",
            "7    [14, 59, 10, 15, 48, 18, 23, 24, 1, 53]  174790.537291  240.537291     174550       \n",
            "9    [47, 12, 21, 14, 22, 2, 59, 50, 54, 16]  174653.788245  253.788245     174400       \n",
            "3   [15, 18, 48, 14, 22, 54, 59, 12, 24, 21]  174526.597490  226.597490     174300       \n",
            "4      [59, 14, 23, 2, 54, 24, 49, 21, 0, 9]  174330.061697  230.061697     174100       \n",
            "2     [50, 54, 59, 24, 46, 15, 14, 22, 6, 2]  174052.129347  252.129347     173800       \n",
            "0    [59, 2, 15, 14, 50, 23, 10, 54, 21, 24]  173932.673477  232.673477     173700       \n",
            "6    [15, 10, 22, 17, 54, 21, 24, 59, 1, 14]  172854.747937  204.747937     172650       \n",
            "10     [23, 59, 6, 0, 24, 19, 47, 53, 2, 14]  170938.073158  238.073158     170700       \n"
          ]
        }
      ]
    },
    {
      "cell_type": "code",
      "source": [
        "# Borrar las filas de la data si queremos analizar desde vacio\n",
        "df_vacio = pd.DataFrame(columns=df.columns)\n",
        "df_vacio.to_csv(filename, index=False)"
      ],
      "metadata": {
        "id": "Tsa-EjPRVC86"
      },
      "execution_count": 179,
      "outputs": []
    }
  ]
}